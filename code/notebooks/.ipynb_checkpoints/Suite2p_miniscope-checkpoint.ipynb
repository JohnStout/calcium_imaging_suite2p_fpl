{
 "cells": [
  {
   "cell_type": "markdown",
   "metadata": {},
   "source": [
    "# Adapted jupyter-notebook for running suite2p algorithm on 2P data"
   ]
  },
  {
   "cell_type": "code",
   "execution_count": 1,
   "metadata": {},
   "outputs": [
    {
     "name": "stderr",
     "output_type": "stream",
     "text": [
      "/var/folders/f3/11w5x6bs32gd1xc4lh41qdnr0000gp/T/ipykernel_24615/2586110496.py:24: MatplotlibDeprecationWarning: The get_cmap function was deprecated in Matplotlib 3.7 and will be removed two minor releases later. Use ``matplotlib.colormaps[name]`` or ``matplotlib.colormaps.get_cmap(obj)`` instead.\n",
      "  jet = mpl.cm.get_cmap('jet')\n"
     ]
    }
   ],
   "source": [
    "from pathlib import Path\n",
    "from tempfile import TemporaryDirectory\n",
    "import matplotlib.pyplot as plt\n",
    "import numpy as np\n",
    "import os\n",
    "import tifffile\n",
    "import xmltodict\n",
    "import suite2p\n",
    "import fastplotlib as fpl\n",
    "\n",
    "# Figure Style settings for notebook.\n",
    "import matplotlib as mpl\n",
    "mpl.rcParams.update({\n",
    "    'axes.spines.left': False,\n",
    "    'axes.spines.bottom': False,\n",
    "    'axes.spines.top': False,\n",
    "    'axes.spines.right': False,\n",
    "    'legend.frameon': False,\n",
    "    'figure.subplot.wspace': .01,\n",
    "    'figure.subplot.hspace': .01,\n",
    "    'figure.figsize': (9, 9),\n",
    "    'ytick.major.left': False,\n",
    "})\n",
    "jet = mpl.cm.get_cmap('jet')\n",
    "jet.set_bad(color='k')"
   ]
  },
  {
   "cell_type": "markdown",
   "metadata": {},
   "source": [
    "# Set `movie_path` and let the rest work\n",
    "\n",
    "When you are finished, open Suite2p_quickViz, change the file path and visualize the movie overlaid with the components. You should toggle between the suite2p GUI and the fastplotlib plots"
   ]
  },
  {
   "cell_type": "code",
   "execution_count": 2,
   "metadata": {},
   "outputs": [
    {
     "name": "stdout",
     "output_type": "stream",
     "text": [
      "{'suite2p_version': '0.14.2', 'look_one_level_down': False, 'fast_disk': [], 'delete_bin': False, 'mesoscan': False, 'bruker': False, 'bruker_bidirectional': False, 'h5py': [], 'h5py_key': 'data', 'nwb_file': '', 'nwb_driver': '', 'nwb_series': '', 'save_path0': '', 'save_folder': [], 'subfolders': [], 'move_bin': False, 'nplanes': 1, 'nchannels': 1, 'functional_chan': 1, 'tau': 1.0, 'fs': 30.043, 'force_sktiff': False, 'frames_include': -1, 'multiplane_parallel': False, 'ignore_flyback': [], 'preclassify': 0.0, 'save_mat': False, 'save_NWB': True, 'combined': True, 'aspect': 1.0, 'do_bidiphase': False, 'bidiphase': 0, 'bidi_corrected': False, 'do_registration': True, 'two_step_registration': False, 'keep_movie_raw': False, 'nimg_init': 300, 'batch_size': 500, 'maxregshift': 0.1, 'align_by_chan': 1, 'reg_tif': False, 'reg_tif_chan2': False, 'subpixel': 10, 'smooth_sigma_time': 0, 'smooth_sigma': 1.15, 'th_badframes': 1.0, 'norm_frames': True, 'force_refImg': False, 'pad_fft': False, 'nonrigid': True, 'block_size': [128, 128], 'snr_thresh': 1.2, 'maxregshiftNR': 5, '1Preg': False, 'spatial_hp_reg': 42, 'pre_smooth': 0, 'spatial_taper': 40, 'roidetect': True, 'spikedetect': True, 'sparse_mode': True, 'spatial_scale': 0, 'connected': True, 'nbinned': 5000, 'max_iterations': 20, 'threshold_scaling': 1.0, 'max_overlap': 0.75, 'high_pass': 100, 'spatial_hp_detect': 25, 'denoise': False, 'anatomical_only': 0, 'diameter': 0, 'cellprob_threshold': 0.0, 'flow_threshold': 1.5, 'spatial_hp_cp': 0, 'pretrained_model': 'cyto', 'soma_crop': True, 'neuropil_extract': True, 'inner_neuropil_radius': 2, 'min_neuropil_pixels': 350, 'lam_percentile': 50.0, 'allow_overlap': False, 'use_builtin_classifier': False, 'classifier_path': '', 'chan2_thres': 0.65, 'baseline': 'maximin', 'win_baseline': 60.0, 'sig_baseline': 10.0, 'prctile_baseline': 8.0, 'neucoeff': 0.7}\n",
      "{'data_path': ['/Users/js0403/2p/A04'], 'save_path0': '/Users/js0403/2p/A04', 'tiff_list': ['img.tif']}\n",
      "tif\n",
      "** Found 1 tifs - converting to binary **\n",
      "2000 frames of binary, time 1.63 sec.\n",
      "4000 frames of binary, time 2.83 sec.\n",
      "6000 frames of binary, time 4.12 sec.\n",
      "8000 frames of binary, time 5.31 sec.\n",
      "10000 frames of binary, time 6.57 sec.\n",
      "time 7.37 sec. Wrote 11063 frames per binary for 1 planes\n",
      ">>>>>>>>>>>>>>>>>>>>> PLANE 0 <<<<<<<<<<<<<<<<<<<<<<\n",
      "NOTE: not registered / registration forced with ops['do_registration']>1\n",
      "      (no previous offsets to delete)\n",
      "NOTE: applying default /Users/js0403/.suite2p/classifiers/classifier_user.npy\n",
      "----------- REGISTRATION\n",
      "Reference frame, 9.04 sec.\n",
      "Registered 500/11063 in 9.37s\n",
      "Registered 1000/11063 in 18.42s\n",
      "Registered 1500/11063 in 27.01s\n",
      "Registered 2000/11063 in 35.51s\n",
      "Registered 2500/11063 in 44.25s\n",
      "Registered 3000/11063 in 52.69s\n",
      "Registered 3500/11063 in 61.49s\n",
      "Registered 4000/11063 in 70.40s\n",
      "Registered 4500/11063 in 78.97s\n",
      "Registered 5000/11063 in 87.50s\n",
      "Registered 5500/11063 in 96.24s\n",
      "Registered 6000/11063 in 104.59s\n",
      "Registered 6500/11063 in 113.11s\n",
      "Registered 7000/11063 in 121.83s\n",
      "Registered 7500/11063 in 130.58s\n",
      "Registered 8000/11063 in 139.00s\n",
      "Registered 8500/11063 in 147.39s\n",
      "Registered 9000/11063 in 156.01s\n",
      "Registered 9500/11063 in 164.54s\n",
      "Registered 10000/11063 in 172.94s\n",
      "Registered 10500/11063 in 181.72s\n",
      "Registered 11000/11063 in 190.30s\n",
      "Registered 11063/11063 in 191.17s\n",
      "----------- Total 206.05 sec\n",
      "Registration metrics, 56.07 sec.\n",
      "----------- ROI DETECTION\n",
      "Binning movie in chunks of length 30\n",
      "Binned movie of size [368,484,498] created in 9.15 sec.\n",
      "NOTE: estimated spatial scale ~12 pixels, time epochs 1.00, threshold 10.00 \n",
      "0 ROIs, score=161.92\n",
      "Detected 382 ROIs, 6.48 sec\n",
      "After removing overlaps, 340 ROIs remain\n",
      "----------- Total 16.01 sec.\n",
      "----------- EXTRACTION\n",
      "Masks created, 1.20 sec.\n",
      "Extracted fluorescence from 340 ROIs in 11063 frames, 5.96 sec.\n",
      "----------- Total 7.23 sec.\n",
      "----------- CLASSIFICATION\n",
      "['npix_norm', 'skew', 'compact']\n",
      "----------- SPIKE DECONVOLUTION\n",
      "----------- Total 0.14 sec.\n",
      "Plane 0 processed in 285.62 sec (can open in GUI).\n",
      "total = 293.07 sec.\n",
      "Saving in nwb format\n",
      "root pynwb.file.NWBFile at 0x18226357968\n",
      "Fields:\n",
      "  file_create_date: [datetime.datetime(2024, 3, 13, 7, 52, 7, 531333, tzinfo=tzlocal())]\n",
      "  identifier: /Users/js0403/2p/A04\n",
      "  session_description: suite2p_proc\n",
      "  session_start_time: 2024-03-13 07:47:21.816776-04:00\n",
      "  timestamps_reference_time: 2024-03-13 07:47:21.816776-04:00\n",
      "\n",
      "TOTAL RUNTIME 293.81 sec\n"
     ]
    }
   ],
   "source": [
    "# CHANGE ME\n",
    "movie_path = r'/Users/js0403/2p/A04/img.tif'\n",
    "\n",
    "movie_orig = tifffile.memmap(movie_path)\n",
    "\n",
    "#___________________________________________#\n",
    "\n",
    "# automatically retrieve the sampling rate\n",
    "root_path = os.path.split(movie_path)[0]\n",
    "movie_name = os.path.split(movie_path)[1]\n",
    "root_contents = os.listdir(root_dir)\n",
    "metadata_dir = os.path.join(root_dir,[i for i in root_contents if '.json' in i][0])\n",
    "metadata = json.load(open(metadata_dir))\n",
    "fr = metadata['frameRate']\n",
    "\n",
    "# default ops\n",
    "ops = suite2p.default_ops()\n",
    "ops['fs']=fr\n",
    "ops['save_NWB']=True\n",
    "print(ops)\n",
    "\n",
    "# set db, this overrides the ops variable\n",
    "db = {\n",
    "    'data_path': [root_path],\n",
    "    'save_path0': root_path,\n",
    "    'tiff_list': [movie_name],\n",
    "}\n",
    "db\n",
    "\n",
    "# run suite2p algorithm\n",
    "output_ops = suite2p.run_s2p(ops=ops, db=db)"
   ]
  },
  {
   "cell_type": "code",
   "execution_count": null,
   "metadata": {},
   "outputs": [],
   "source": []
  }
 ],
 "metadata": {
  "kernelspec": {
   "display_name": "Python 3 (ipykernel)",
   "language": "python",
   "name": "python3"
  },
  "language_info": {
   "codemirror_mode": {
    "name": "ipython",
    "version": 3
   },
   "file_extension": ".py",
   "mimetype": "text/x-python",
   "name": "python",
   "nbconvert_exporter": "python",
   "pygments_lexer": "ipython3",
   "version": "3.9.17"
  }
 },
 "nbformat": 4,
 "nbformat_minor": 4
}
