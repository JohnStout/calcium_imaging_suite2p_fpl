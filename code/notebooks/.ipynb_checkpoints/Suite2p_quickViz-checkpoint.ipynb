{
 "cells": [
  {
   "cell_type": "markdown",
   "metadata": {},
   "source": [
    "# This code uses visualization tools to viz your suite2p results!\n",
    "\n",
    "Open terminal:\n",
    "\n",
    "    conda activate suite2p\n",
    "    jupyter-lab\n",
    "\n",
    "Open Suite2p_Run and work through the notebook. Wait until algorithm is complete.\n",
    "\n",
    "Open a separate terminal:\n",
    "\n",
    "    conda activate suite2p\n",
    "    suite2p\n",
    "\n",
    "Now when in suite2p, select:\n",
    "1) mean img (enhanced) or max projection\n",
    "\n",
    "Toggle back to jupyter-notebook and open `Suite2p_quickViz` to see your components\n",
    "\n",
    "Drag your cursor to see your components. If you find any components that are not caught by suite2p, go back to suite2p and:\n",
    "1) File > Manual Labeling\n",
    "2) mean img (enhanced)\n",
    "3) Press \"add ROI\"\n",
    "4) Find the ROI and create boundaries\n",
    "5) Press \"Extract ROIs\"\n",
    "6) Press \"Save and Quit\"\n",
    "7) Go back to `Suite2p_quickViz` and watch the results!"
   ]
  },
  {
   "cell_type": "code",
   "execution_count": 1,
   "metadata": {},
   "outputs": [],
   "source": [
    "from pathlib import Path\n",
    "from tempfile import TemporaryDirectory\n",
    "import matplotlib.pyplot as plt\n",
    "import numpy as np\n",
    "import os\n",
    "import tifffile\n",
    "import xmltodict\n",
    "import suite2p\n",
    "import fastplotlib as fpl\n",
    "\n",
    "# Figure Style settings for notebook.\n",
    "import matplotlib as mpl\n",
    "mpl.rcParams.update({\n",
    "    'axes.spines.left': False,\n",
    "    'axes.spines.bottom': False,\n",
    "    'axes.spines.top': False,\n",
    "    'axes.spines.right': False,\n",
    "    'legend.frameon': False,\n",
    "    'figure.subplot.wspace': .01,\n",
    "    'figure.subplot.hspace': .01,\n",
    "    'figure.figsize': (9, 9),\n",
    "    'ytick.major.left': False,\n",
    "})\n",
    "jet = mpl.cm.get_cmap('jet')\n",
    "jet.set_bad(color='k')"
   ]
  },
  {
   "cell_type": "markdown",
   "metadata": {},
   "source": [
    "# set `output_path` to suite2p output and watch the fastplotlib plot in action!"
   ]
  },
  {
   "cell_type": "code",
   "execution_count": 8,
   "metadata": {},
   "outputs": [
    {
     "name": "stdout",
     "output_type": "stream",
     "text": [
      "/Users/js0403/2p/NA4/img.tif\n"
     ]
    },
    {
     "name": "stderr",
     "output_type": "stream",
     "text": [
      "/var/folders/f3/11w5x6bs32gd1xc4lh41qdnr0000gp/T/ipykernel_53187/63891772.py:42: RuntimeWarning: All-NaN slice encountered\n",
      "  cell_roi = np.nanmax(im[iscell], axis=0)\n"
     ]
    },
    {
     "data": {
      "application/vnd.jupyter.widget-view+json": {
       "model_id": "47d9999a55234bffb69bfc457cddd0b0",
       "version_major": 2,
       "version_minor": 0
      },
      "text/plain": [
       "RFBOutputContext()"
      ]
     },
     "metadata": {},
     "output_type": "display_data"
    },
    {
     "data": {
      "text/plain": [
       "JupyterOutputContext(children=(JupyterWgpuCanvas(), IpywidgetToolBar(children=(Button(icon='expand-arrows-alt', layout=Layout(width='auto'), style=ButtonStyle(), tooltip='auto-scale scene'), Button(icon='align-center', layout=Layout(width='auto'), style=ButtonStyle(), tooltip='auto-center scene'), ToggleButton(value=True, icon='hand-pointer', layout=Layout(width='auto'), tooltip='panzoom controller'), ToggleButton(value=True, description='1:1', layout=Layout(width='auto'), style=ToggleButtonStyle(font_weight='bold'), tooltip='maintain aspect'), Button(icon='arrow-down', layout=Layout(width='auto'), style=ButtonStyle(), tooltip='y-axis direction'), Button(icon='draw-polygon', layout=Layout(width='auto'), style=ButtonStyle(), tooltip='add PolygonSelector'), ToggleButton(value=False, icon='video', layout=Layout(width='auto'), tooltip='record'), Dropdown(description='Subplots:', layout=Layout(width='200px'), options=('(0, 0)',), value='(0, 0)'))), IpywidgetImageWidgetToolbar(children=(HBox(children=(Button(icon='adjust', layout=Layout(width='auto'), style=ButtonStyle(), tooltip='reset vmin/vmax'), Button(description='reset', icon='adjust', layout=Layout(width='auto'), style=ButtonStyle(), tooltip='reset vmin/vmax and reset histogram using current frame'), Play(value=0, description='play/pause', interval=10, max=7999), BoundedIntText(value=1, description='Step Size:', layout=Layout(width='150px'), max=7999, min=1, tooltip='set slider step'), BoundedIntText(value=100, description='Speed', layout=Layout(width='150px'), max=1000, min=1, step=50, tooltip='Playback speed, this is NOT framerate.\\nArbitrary units between 1 - 1,000'))), IntSlider(value=0, description='dimension: t', max=7999)))))"
      ]
     },
     "execution_count": 8,
     "metadata": {},
     "output_type": "execute_result"
    }
   ],
   "source": [
    "if 'iw_movie' in locals():\n",
    "    iw_movie.close()\n",
    "\n",
    "# movies and associated frame rates\n",
    "output_path = r\"/Users/js0403/2p/NA4/suite2p/plane0\"\n",
    "listed_data = os.listdir(output_path)\n",
    "\n",
    "# loads in your data and automatically assigns their inputs\n",
    "var_names =[]\n",
    "for i in listed_data:\n",
    "    if '.npy' in i:\n",
    "        if 'ops' in i:\n",
    "            globals()[i.split('.')[0]]=np.load(os.path.join(output_path,i),allow_pickle=True).item()\n",
    "            pass\n",
    "        else:\n",
    "            globals()[i.split('.')[0]]=np.load(os.path.join(output_path,i),allow_pickle=True)\n",
    "        var_names.append([i.split('.')[0]])\n",
    "\n",
    "# define data_path\n",
    "if len(ops['data_path'])>1 or len(ops['tiff_list'])>1:\n",
    "    print(\"This code does not support multi-file registration\")\n",
    "else:\n",
    "    data_path = os.path.join(ops['data_path'][0],ops['tiff_list'][0])\n",
    "    print(data_path)\n",
    "\n",
    "# prep stuff\n",
    "output_op_file = np.load(Path(ops['save_path']).joinpath('ops.npy'), allow_pickle=True).item()\n",
    "output_op_file.keys() == ops.keys()\n",
    "stats_file = Path(ops['save_path']).joinpath('stat.npy')\n",
    "iscell = np.load(Path(ops['save_path']).joinpath('iscell.npy'), allow_pickle=True)[:, 0].astype(bool)\n",
    "stats = np.load(stats_file, allow_pickle=True)\n",
    "stats.shape, iscell.shape\n",
    "\n",
    "# get image object\n",
    "im = suite2p.ROI.stats_dicts_to_3d_array(stats, Ly=ops['Ly'], Lx=ops['Lx'], label_id=True)\n",
    "im[im == 0] = np.nan\n",
    "\n",
    "# lazy load video\n",
    "images = tifffile.memmap(data_path)\n",
    "\n",
    "# cell rois\n",
    "cell_roi = np.nanmax(im[iscell], axis=0)\n",
    "cell_roi.shape\n",
    "cell_roi[~np.isnan(cell_roi)]=20\n",
    "\n",
    "#%% Watch the movie\n",
    "iw_movie = fpl.ImageWidget(\n",
    "    data=images,\n",
    "    slider_dims=[\"t\"],\n",
    "    cmap=\"gray\"\n",
    ")\n",
    "\n",
    "# add a column to overlay functional activity on structural video\n",
    "struct_rgba = np.zeros((512, 512, 4), dtype=np.float32)\n",
    "struct_rgba[:, :, 1] = cell_roi\n",
    "struct_rgba[..., -1] = 10\n",
    "iw_movie.gridplot[0,0].add_image(struct_rgba, name='struct')\n",
    "iw_movie.gridplot[0,0]\n",
    "iw_movie.gridplot[0,0][\"struct\"].data[..., -1] = .3\n",
    "#iw_movie.gridplot[0,0].add_image(cell_roi, name='struct')\n",
    "\n",
    "# visualize the movie\n",
    "iw_movie.show(sidecar=True)"
   ]
  },
  {
   "cell_type": "code",
   "execution_count": null,
   "metadata": {},
   "outputs": [],
   "source": []
  }
 ],
 "metadata": {
  "kernelspec": {
   "display_name": "Python 3 (ipykernel)",
   "language": "python",
   "name": "python3"
  },
  "language_info": {
   "codemirror_mode": {
    "name": "ipython",
    "version": 3
   },
   "file_extension": ".py",
   "mimetype": "text/x-python",
   "name": "python",
   "nbconvert_exporter": "python",
   "pygments_lexer": "ipython3",
   "version": "3.9.17"
  }
 },
 "nbformat": 4,
 "nbformat_minor": 4
}
