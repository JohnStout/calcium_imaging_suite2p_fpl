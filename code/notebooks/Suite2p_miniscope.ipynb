{
 "cells": [
  {
   "cell_type": "markdown",
   "metadata": {},
   "source": [
    "# Adapted jupyter-notebook for running suite2p algorithm on 2P data"
   ]
  },
  {
   "cell_type": "code",
   "execution_count": 1,
   "metadata": {},
   "outputs": [
    {
     "name": "stderr",
     "output_type": "stream",
     "text": [
      "/var/folders/f3/11w5x6bs32gd1xc4lh41qdnr0000gp/T/ipykernel_64644/413991043.py:25: MatplotlibDeprecationWarning: The get_cmap function was deprecated in Matplotlib 3.7 and will be removed two minor releases later. Use ``matplotlib.colormaps[name]`` or ``matplotlib.colormaps.get_cmap(obj)`` instead.\n",
      "  jet = mpl.cm.get_cmap('jet')\n"
     ]
    }
   ],
   "source": [
    "from pathlib import Path\n",
    "from tempfile import TemporaryDirectory\n",
    "import matplotlib.pyplot as plt\n",
    "import numpy as np\n",
    "import os\n",
    "import tifffile\n",
    "import xmltodict\n",
    "import suite2p\n",
    "import fastplotlib as fpl\n",
    "import json\n",
    "\n",
    "# Figure Style settings for notebook.\n",
    "import matplotlib as mpl\n",
    "mpl.rcParams.update({\n",
    "    'axes.spines.left': False,\n",
    "    'axes.spines.bottom': False,\n",
    "    'axes.spines.top': False,\n",
    "    'axes.spines.right': False,\n",
    "    'legend.frameon': False,\n",
    "    'figure.subplot.wspace': .01,\n",
    "    'figure.subplot.hspace': .01,\n",
    "    'figure.figsize': (9, 9),\n",
    "    'ytick.major.left': False,\n",
    "})\n",
    "jet = mpl.cm.get_cmap('jet')\n",
    "jet.set_bad(color='k')"
   ]
  },
  {
   "cell_type": "markdown",
   "metadata": {},
   "source": [
    "# Set `movie_path` and let the rest work\n",
    "\n",
    "When you are finished, open Suite2p_quickViz, change the file path and visualize the movie overlaid with the components. You should toggle between the suite2p GUI and the fastplotlib plots"
   ]
  },
  {
   "cell_type": "code",
   "execution_count": 7,
   "metadata": {},
   "outputs": [
    {
     "data": {
      "text/plain": [
       "\"\\nops['tau']=0.7\\nops['two_step_registration']=True # for low SNR\\nops['smooth_sigma_time']=2 # 1-2 for low SNR\\nops['block_size']=[128,128]\\nops['snr_thresh']=1.5\\nops['threshold_scaling']=1.0 # how much the roi has to stand out from noise\\nops['high_pass']=5 # running mean subtraction across time with a window size of 'high_pass'. Less than 10 for 1P (try higher!)\\nops['1Preg']=True\\nops['spatial_hp_reg']=42\\nops['pre_smooth']=2 # gaussian applied before spatial high pass filtering\\nops['spatial_taper']=40\\n\""
      ]
     },
     "execution_count": 7,
     "metadata": {},
     "output_type": "execute_result"
    }
   ],
   "source": [
    "# CHANGE ME\n",
    "movie_path = r'/Users/js0403/miniscope/PFC-Neurons/122D/AAV2/3-Syn-GCaMP8f/2024_03_21/15_01_43/miniscopeDeviceName/full_movie.tif'\n",
    "movie_orig = tifffile.memmap(movie_path)\n",
    "ops = np.load(os.path.join(os.path.split(movie_path)[0],'1P_ops.npy'),allow_pickle=True).item()\n",
    "ops = suite2p.default_ops()\n",
    "\n",
    "# 1P\n",
    "#ops['fs']=10\n",
    "'''\n",
    "ops['tau']=0.7\n",
    "ops['two_step_registration']=True # for low SNR\n",
    "ops['smooth_sigma_time']=2 # 1-2 for low SNR\n",
    "ops['block_size']=[128,128]\n",
    "ops['snr_thresh']=1.5\n",
    "ops['threshold_scaling']=1.0 # how much the roi has to stand out from noise\n",
    "ops['high_pass']=5 # running mean subtraction across time with a window size of 'high_pass'. Less than 10 for 1P (try higher!)\n",
    "ops['1Preg']=True\n",
    "ops['spatial_hp_reg']=42\n",
    "ops['pre_smooth']=2 # gaussian applied before spatial high pass filtering\n",
    "ops['spatial_taper']=40\n",
    "'''"
   ]
  },
  {
   "cell_type": "code",
   "execution_count": 8,
   "metadata": {},
   "outputs": [
    {
     "name": "stdout",
     "output_type": "stream",
     "text": [
      "{'suite2p_version': '0.14.2', 'look_one_level_down': 0.0, 'fast_disk': [], 'delete_bin': False, 'mesoscan': False, 'bruker': False, 'bruker_bidirectional': False, 'h5py': [], 'h5py_key': 'data', 'nwb_file': '', 'nwb_driver': '', 'nwb_series': '', 'save_path0': '', 'save_folder': [], 'subfolders': [], 'move_bin': False, 'nplanes': 1, 'nchannels': 1, 'functional_chan': 1, 'tau': 1.0, 'fs': 10, 'force_sktiff': False, 'frames_include': -1, 'multiplane_parallel': 0.0, 'ignore_flyback': [], 'preclassify': 0.0, 'save_mat': False, 'save_NWB': False, 'combined': 1.0, 'aspect': 1.0, 'do_bidiphase': False, 'bidiphase': 0.0, 'bidi_corrected': False, 'do_registration': 1, 'two_step_registration': 0.0, 'keep_movie_raw': False, 'nimg_init': 300, 'batch_size': 500, 'maxregshift': 0.1, 'align_by_chan': 1, 'reg_tif': False, 'reg_tif_chan2': False, 'subpixel': 10, 'smooth_sigma_time': 0.0, 'smooth_sigma': 4.0, 'th_badframes': 1.0, 'norm_frames': True, 'force_refImg': False, 'pad_fft': False, 'nonrigid': True, 'block_size': [128, 128], 'snr_thresh': 1.2, 'maxregshiftNR': 8.0, '1Preg': True, 'spatial_hp_reg': 42.0, 'pre_smooth': 0.0, 'spatial_taper': 40.0, 'roidetect': True, 'spikedetect': True, 'sparse_mode': True, 'spatial_scale': 0, 'connected': True, 'nbinned': 5000, 'max_iterations': 20, 'threshold_scaling': 1.0, 'max_overlap': 0.75, 'high_pass': 6.0, 'spatial_hp_detect': 25.0, 'denoise': 0.0, 'anatomical_only': 0, 'diameter': 12, 'cellprob_threshold': 0.0, 'flow_threshold': 1.5, 'spatial_hp_cp': 0.0, 'pretrained_model': 'cyto', 'soma_crop': 1.0, 'neuropil_extract': True, 'inner_neuropil_radius': 2, 'min_neuropil_pixels': 350, 'lam_percentile': 50.0, 'allow_overlap': False, 'use_builtin_classifier': False, 'classifier_path': '', 'chan2_thres': 0.65, 'baseline': 'maximin', 'win_baseline': 60.0, 'sig_baseline': 10.0, 'prctile_baseline': 8.0, 'neucoeff': 0.7}\n",
      "{'data_path': ['/Users/js0403/miniscope/PFC-Neurons/122D/AAV2/3-Syn-GCaMP8f/2024_03_21/15_01_43/miniscopeDeviceName'], 'save_path0': '/Users/js0403/miniscope/PFC-Neurons/122D/AAV2/3-Syn-GCaMP8f/2024_03_21/15_01_43/miniscopeDeviceName', 'tiff_list': ['full_movie.tif']}\n",
      "FOUND BINARIES AND OPS IN ['/Users/js0403/miniscope/PFC-Neurons/122D/AAV2/3-Syn-GCaMP8f/2024_03_21/15_01_43/miniscopeDeviceName/suite2p/plane0/ops.npy']\n",
      "removing previous detection and extraction files, if present\n",
      ">>>>>>>>>>>>>>>>>>>>> PLANE 0 <<<<<<<<<<<<<<<<<<<<<<\n",
      "NOTE: not running registration, plane already registered\n",
      "binary path: /Users/js0403/miniscope/PFC-Neurons/122D/AAV2/3-Syn-GCaMP8f/2024_03_21/15_01_43/miniscopeDeviceName/suite2p/plane0/data.bin\n",
      "NOTE: applying default /Users/js0403/.suite2p/classifiers/classifier_user.npy\n",
      "----------- ROI DETECTION\n",
      "Binning movie in chunks of length 10\n",
      "Binned movie of size [199,598,592] created in 0.86 sec.\n"
     ]
    },
    {
     "name": "stderr",
     "output_type": "stream",
     "text": [
      "/Users/js0403/anaconda3/envs/suite2p/lib/python3.9/site-packages/suite2p/detection/sparsedetect.py:286: UserWarning: Spatial scale estimation failed.  Setting spatial scale to 1 in order to continue.\n",
      "  warn(\n"
     ]
    },
    {
     "name": "stdout",
     "output_type": "stream",
     "text": [
      "NOTE: FORCED spatial scale ~6 pixels, time epochs 1.00, threshold 5.00 \n",
      "0 ROIs, score=30.56\n",
      "Detected 644 ROIs, 6.88 sec\n",
      "After removing overlaps, 627 ROIs remain\n",
      "----------- Total 8.08 sec.\n",
      "----------- EXTRACTION\n",
      "Masks created, 0.68 sec.\n",
      "Extracted fluorescence from 627 ROIs in 1997 frames, 1.27 sec.\n",
      "----------- Total 1.99 sec.\n",
      "----------- CLASSIFICATION\n",
      "['skew', 'npix_norm', 'compact']\n",
      "----------- SPIKE DECONVOLUTION\n",
      "----------- Total 0.05 sec.\n",
      "Plane 0 processed in 10.49 sec (can open in GUI).\n",
      "total = 10.55 sec.\n",
      "TOTAL RUNTIME 10.55 sec\n"
     ]
    }
   ],
   "source": [
    "#___________________________________________#\n",
    "\n",
    "# automatically retrieve the sampling rate\n",
    "root_path = os.path.split(movie_path)[0]\n",
    "movie_name = os.path.split(movie_path)[1]\n",
    "root_contents = os.listdir(root_path)\n",
    "metadata_dir = os.path.join(root_path,[i for i in root_contents if '.json' in i][0])\n",
    "metadata = json.load(open(metadata_dir))\n",
    "fr = metadata['frameRate']\n",
    "\n",
    "# default ops\n",
    "#ops = suite2p.default_ops()\n",
    "ops['fs']=fr\n",
    "ops['save_NWB']=False\n",
    "print(ops)\n",
    "\n",
    "# set db, this overrides the ops variable\n",
    "db = {\n",
    "    'data_path': [root_path],\n",
    "    'save_path0': root_path,\n",
    "    'tiff_list': [movie_name],\n",
    "}\n",
    "db\n",
    "\n",
    "# run suite2p algorithm\n",
    "output_ops = suite2p.run_s2p(ops=ops, db=db)"
   ]
  },
  {
   "cell_type": "code",
   "execution_count": null,
   "metadata": {},
   "outputs": [],
   "source": []
  }
 ],
 "metadata": {
  "kernelspec": {
   "display_name": "Python 3 (ipykernel)",
   "language": "python",
   "name": "python3"
  },
  "language_info": {
   "codemirror_mode": {
    "name": "ipython",
    "version": 3
   },
   "file_extension": ".py",
   "mimetype": "text/x-python",
   "name": "python",
   "nbconvert_exporter": "python",
   "pygments_lexer": "ipython3",
   "version": "3.9.17"
  }
 },
 "nbformat": 4,
 "nbformat_minor": 4
}
