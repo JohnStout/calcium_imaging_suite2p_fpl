{
 "cells": [
  {
   "cell_type": "markdown",
   "metadata": {},
   "source": [
    "# Adapted jupyter-notebook for running suite2p algorithm on 2P data"
   ]
  },
  {
   "cell_type": "code",
   "execution_count": 20,
   "metadata": {},
   "outputs": [
    {
     "name": "stderr",
     "output_type": "stream",
     "text": [
      "/var/folders/f3/11w5x6bs32gd1xc4lh41qdnr0000gp/T/ipykernel_64105/413991043.py:25: MatplotlibDeprecationWarning: The get_cmap function was deprecated in Matplotlib 3.7 and will be removed two minor releases later. Use ``matplotlib.colormaps[name]`` or ``matplotlib.colormaps.get_cmap(obj)`` instead.\n",
      "  jet = mpl.cm.get_cmap('jet')\n"
     ]
    }
   ],
   "source": [
    "from pathlib import Path\n",
    "from tempfile import TemporaryDirectory\n",
    "import matplotlib.pyplot as plt\n",
    "import numpy as np\n",
    "import os\n",
    "import tifffile\n",
    "import xmltodict\n",
    "import suite2p\n",
    "import fastplotlib as fpl\n",
    "import json\n",
    "\n",
    "# Figure Style settings for notebook.\n",
    "import matplotlib as mpl\n",
    "mpl.rcParams.update({\n",
    "    'axes.spines.left': False,\n",
    "    'axes.spines.bottom': False,\n",
    "    'axes.spines.top': False,\n",
    "    'axes.spines.right': False,\n",
    "    'legend.frameon': False,\n",
    "    'figure.subplot.wspace': .01,\n",
    "    'figure.subplot.hspace': .01,\n",
    "    'figure.figsize': (9, 9),\n",
    "    'ytick.major.left': False,\n",
    "})\n",
    "jet = mpl.cm.get_cmap('jet')\n",
    "jet.set_bad(color='k')"
   ]
  },
  {
   "cell_type": "markdown",
   "metadata": {},
   "source": [
    "# Set `movie_path` and let the rest work\n",
    "\n",
    "When you are finished, open Suite2p_quickViz, change the file path and visualize the movie overlaid with the components. You should toggle between the suite2p GUI and the fastplotlib plots"
   ]
  },
  {
   "cell_type": "code",
   "execution_count": 13,
   "metadata": {},
   "outputs": [
    {
     "data": {
      "text/plain": [
       "numpy.ndarray"
      ]
     },
     "execution_count": 13,
     "metadata": {},
     "output_type": "execute_result"
    }
   ],
   "source": [
    "type(ops)"
   ]
  },
  {
   "cell_type": "code",
   "execution_count": 17,
   "metadata": {},
   "outputs": [
    {
     "data": {
      "text/plain": [
       "dict"
      ]
     },
     "execution_count": 17,
     "metadata": {},
     "output_type": "execute_result"
    }
   ],
   "source": [
    "# CHANGE ME\n",
    "movie_path = r'/Users/js0403/miniscope/PFC-Neurons/122D/AAV2/3-Syn-GCaMP8f/12_51_33/miniscopeDeviceName/full_movie.tif'\n",
    "movie_orig = tifffile.memmap(movie_path)\n",
    "ops = np.load(os.path.join(os.path.split(movie_path)[0],'1P_ops.npy'),allow_pickle=True).item()\n",
    "ops['fs']=10\n",
    "#ops['save_NWB']=True\n",
    "#ops = suite2p.default_ops()"
   ]
  },
  {
   "cell_type": "code",
   "execution_count": 21,
   "metadata": {},
   "outputs": [
    {
     "name": "stdout",
     "output_type": "stream",
     "text": [
      "{'suite2p_version': '0.14.2', 'look_one_level_down': False, 'fast_disk': [], 'delete_bin': False, 'mesoscan': False, 'bruker': False, 'bruker_bidirectional': False, 'h5py': [], 'h5py_key': 'data', 'nwb_file': '', 'nwb_driver': '', 'nwb_series': '', 'save_path0': '', 'save_folder': [], 'subfolders': [], 'move_bin': False, 'nplanes': 1, 'nchannels': 1, 'functional_chan': 1, 'tau': 1.0, 'fs': 10, 'force_sktiff': False, 'frames_include': -1, 'multiplane_parallel': False, 'ignore_flyback': [], 'preclassify': 0.0, 'save_mat': False, 'save_NWB': True, 'combined': True, 'aspect': 1.0, 'do_bidiphase': False, 'bidiphase': 0, 'bidi_corrected': False, 'do_registration': True, 'two_step_registration': False, 'keep_movie_raw': False, 'nimg_init': 300, 'batch_size': 500, 'maxregshift': 0.1, 'align_by_chan': 1, 'reg_tif': False, 'reg_tif_chan2': False, 'subpixel': 10, 'smooth_sigma_time': 0, 'smooth_sigma': 1.15, 'th_badframes': 1.0, 'norm_frames': True, 'force_refImg': False, 'pad_fft': False, 'nonrigid': True, 'block_size': [128, 128], 'snr_thresh': 1.2, 'maxregshiftNR': 5, '1Preg': False, 'spatial_hp_reg': 42, 'pre_smooth': 0, 'spatial_taper': 40, 'roidetect': True, 'spikedetect': True, 'sparse_mode': True, 'spatial_scale': 0, 'connected': True, 'nbinned': 5000, 'max_iterations': 20, 'threshold_scaling': 1.0, 'max_overlap': 0.75, 'high_pass': 100, 'spatial_hp_detect': 25, 'denoise': False, 'anatomical_only': 0, 'diameter': 0, 'cellprob_threshold': 0.0, 'flow_threshold': 1.5, 'spatial_hp_cp': 0, 'pretrained_model': 'cyto', 'soma_crop': True, 'neuropil_extract': True, 'inner_neuropil_radius': 2, 'min_neuropil_pixels': 350, 'lam_percentile': 50.0, 'allow_overlap': False, 'use_builtin_classifier': False, 'classifier_path': '', 'chan2_thres': 0.65, 'baseline': 'maximin', 'win_baseline': 60.0, 'sig_baseline': 10.0, 'prctile_baseline': 8.0, 'neucoeff': 0.7}\n",
      "{'data_path': ['/Users/js0403/miniscope/PFC-Neurons/122D/AAV2/3-Syn-GCaMP8f/12_51_33/miniscopeDeviceName'], 'save_path0': '/Users/js0403/miniscope/PFC-Neurons/122D/AAV2/3-Syn-GCaMP8f/12_51_33/miniscopeDeviceName', 'tiff_list': ['full_movie.tif']}\n",
      "tif\n",
      "** Found 1 tifs - converting to binary **\n",
      "2000 frames of binary, time 2.14 sec.\n",
      "4000 frames of binary, time 4.14 sec.\n",
      "6000 frames of binary, time 6.18 sec.\n",
      "time 6.26 sec. Wrote 6000 frames per binary for 1 planes\n",
      ">>>>>>>>>>>>>>>>>>>>> PLANE 0 <<<<<<<<<<<<<<<<<<<<<<\n",
      "NOTE: not registered / registration forced with ops['do_registration']>1\n",
      "      (no previous offsets to delete)\n",
      "NOTE: applying default /Users/js0403/.suite2p/classifiers/classifier_user.npy\n",
      "----------- REGISTRATION\n",
      "Reference frame, 12.93 sec.\n",
      "Registered 500/6000 in 25.89s\n",
      "Registered 1000/6000 in 43.89s\n",
      "Registered 1500/6000 in 62.62s\n",
      "Registered 2000/6000 in 80.53s\n",
      "Registered 2500/6000 in 98.88s\n",
      "Registered 3000/6000 in 118.07s\n",
      "Registered 3500/6000 in 136.93s\n",
      "Registered 4000/6000 in 156.95s\n",
      "Registered 4500/6000 in 174.87s\n",
      "Registered 5000/6000 in 193.38s\n",
      "Registered 5500/6000 in 212.18s\n",
      "Registered 6000/6000 in 231.70s\n"
     ]
    },
    {
     "name": "stderr",
     "output_type": "stream",
     "text": [
      "/Users/js0403/anaconda3/envs/suite2p/lib/python3.9/site-packages/suite2p/registration/register.py:50: RuntimeWarning: invalid value encountered in divide\n",
      "  dxy = dxy / dxy.mean()\n"
     ]
    },
    {
     "name": "stdout",
     "output_type": "stream",
     "text": [
      "----------- Total 255.81 sec\n",
      "Registration metrics, 117.22 sec.\n",
      "----------- ROI DETECTION\n",
      "Binning movie in chunks of length 10\n",
      "Binned movie of size [600,600,600] created in 6.45 sec.\n",
      "NOTE: estimated spatial scale ~12 pixels, time epochs 1.00, threshold 10.00 \n",
      "0 ROIs, score=71.76\n",
      "Detected 109 ROIs, 5.28 sec\n",
      "After removing overlaps, 102 ROIs remain\n",
      "----------- Total 11.87 sec.\n",
      "----------- EXTRACTION\n",
      "Masks created, 0.69 sec.\n",
      "Extracted fluorescence from 102 ROIs in 6000 frames, 4.07 sec.\n",
      "----------- Total 4.85 sec.\n",
      "----------- CLASSIFICATION\n",
      "['skew', 'npix_norm', 'compact']\n",
      "----------- SPIKE DECONVOLUTION\n",
      "----------- Total 0.02 sec.\n",
      "Plane 0 processed in 389.94 sec (can open in GUI).\n",
      "total = 396.29 sec.\n",
      "Saving in nwb format\n",
      "root pynwb.file.NWBFile at 0x12083913440\n",
      "Fields:\n",
      "  file_create_date: [datetime.datetime(2024, 3, 14, 16, 1, 25, 15378, tzinfo=tzlocal())]\n",
      "  identifier: /Users/js0403/miniscope/PFC-Neurons/122D/AAV2/3-Syn-GCaMP8f/12_51_33/miniscopeDeviceName\n",
      "  session_description: suite2p_proc\n",
      "  session_start_time: 2024-03-14 15:54:54.966234-04:00\n",
      "  timestamps_reference_time: 2024-03-14 15:54:54.966234-04:00\n",
      "\n"
     ]
    },
    {
     "ename": "TypeError",
     "evalue": "MultiContainerInterface.__make_create.<locals>._func: incorrect type for 'imaging_rate' (got 'int', expected 'float')",
     "output_type": "error",
     "traceback": [
      "\u001b[0;31m---------------------------------------------------------------------------\u001b[0m",
      "\u001b[0;31mTypeError\u001b[0m                                 Traceback (most recent call last)",
      "Cell \u001b[0;32mIn[21], line 26\u001b[0m\n\u001b[1;32m     23\u001b[0m db\n\u001b[1;32m     25\u001b[0m \u001b[38;5;66;03m# run suite2p algorithm\u001b[39;00m\n\u001b[0;32m---> 26\u001b[0m output_ops \u001b[38;5;241m=\u001b[39m \u001b[43msuite2p\u001b[49m\u001b[38;5;241;43m.\u001b[39;49m\u001b[43mrun_s2p\u001b[49m\u001b[43m(\u001b[49m\u001b[43mops\u001b[49m\u001b[38;5;241;43m=\u001b[39;49m\u001b[43mops\u001b[49m\u001b[43m,\u001b[49m\u001b[43m \u001b[49m\u001b[43mdb\u001b[49m\u001b[38;5;241;43m=\u001b[39;49m\u001b[43mdb\u001b[49m\u001b[43m)\u001b[49m\n",
      "File \u001b[0;32m~/anaconda3/envs/suite2p/lib/python3.9/site-packages/suite2p/run_s2p.py:535\u001b[0m, in \u001b[0;36mrun_s2p\u001b[0;34m(ops, db, server)\u001b[0m\n\u001b[1;32m    533\u001b[0m \u001b[38;5;28;01mif\u001b[39;00m ops\u001b[38;5;241m.\u001b[39mget(\u001b[38;5;124m\"\u001b[39m\u001b[38;5;124msave_NWB\u001b[39m\u001b[38;5;124m\"\u001b[39m):\n\u001b[1;32m    534\u001b[0m     \u001b[38;5;28mprint\u001b[39m(\u001b[38;5;124m\"\u001b[39m\u001b[38;5;124mSaving in nwb format\u001b[39m\u001b[38;5;124m\"\u001b[39m)\n\u001b[0;32m--> 535\u001b[0m     \u001b[43mio\u001b[49m\u001b[38;5;241;43m.\u001b[39;49m\u001b[43msave_nwb\u001b[49m\u001b[43m(\u001b[49m\u001b[43msave_folder\u001b[49m\u001b[43m)\u001b[49m\n\u001b[1;32m    537\u001b[0m \u001b[38;5;28mprint\u001b[39m(\u001b[38;5;124m\"\u001b[39m\u001b[38;5;124mTOTAL RUNTIME \u001b[39m\u001b[38;5;132;01m%0.2f\u001b[39;00m\u001b[38;5;124m sec\u001b[39m\u001b[38;5;124m\"\u001b[39m \u001b[38;5;241m%\u001b[39m (time\u001b[38;5;241m.\u001b[39mtime() \u001b[38;5;241m-\u001b[39m t0))\n\u001b[1;32m    538\u001b[0m \u001b[38;5;28;01mreturn\u001b[39;00m op\n",
      "File \u001b[0;32m~/anaconda3/envs/suite2p/lib/python3.9/site-packages/suite2p/io/nwb.py:338\u001b[0m, in \u001b[0;36msave_nwb\u001b[0;34m(save_folder)\u001b[0m\n\u001b[1;32m    327\u001b[0m device \u001b[38;5;241m=\u001b[39m nwbfile\u001b[38;5;241m.\u001b[39mcreate_device(\n\u001b[1;32m    328\u001b[0m     name\u001b[38;5;241m=\u001b[39m\u001b[38;5;124m\"\u001b[39m\u001b[38;5;124mMicroscope\u001b[39m\u001b[38;5;124m\"\u001b[39m,\n\u001b[1;32m    329\u001b[0m     description\u001b[38;5;241m=\u001b[39m\u001b[38;5;124m\"\u001b[39m\u001b[38;5;124mMy two-photon microscope\u001b[39m\u001b[38;5;124m\"\u001b[39m,\n\u001b[1;32m    330\u001b[0m     manufacturer\u001b[38;5;241m=\u001b[39m\u001b[38;5;124m\"\u001b[39m\u001b[38;5;124mThe best microscope manufacturer\u001b[39m\u001b[38;5;124m\"\u001b[39m,\n\u001b[1;32m    331\u001b[0m )\n\u001b[1;32m    332\u001b[0m optical_channel \u001b[38;5;241m=\u001b[39m OpticalChannel(\n\u001b[1;32m    333\u001b[0m     name\u001b[38;5;241m=\u001b[39m\u001b[38;5;124m\"\u001b[39m\u001b[38;5;124mOpticalChannel\u001b[39m\u001b[38;5;124m\"\u001b[39m,\n\u001b[1;32m    334\u001b[0m     description\u001b[38;5;241m=\u001b[39m\u001b[38;5;124m\"\u001b[39m\u001b[38;5;124man optical channel\u001b[39m\u001b[38;5;124m\"\u001b[39m,\n\u001b[1;32m    335\u001b[0m     emission_lambda\u001b[38;5;241m=\u001b[39m\u001b[38;5;241m500.0\u001b[39m,\n\u001b[1;32m    336\u001b[0m )\n\u001b[0;32m--> 338\u001b[0m imaging_plane \u001b[38;5;241m=\u001b[39m \u001b[43mnwbfile\u001b[49m\u001b[38;5;241;43m.\u001b[39;49m\u001b[43mcreate_imaging_plane\u001b[49m\u001b[43m(\u001b[49m\n\u001b[1;32m    339\u001b[0m \u001b[43m    \u001b[49m\u001b[43mname\u001b[49m\u001b[38;5;241;43m=\u001b[39;49m\u001b[38;5;124;43m\"\u001b[39;49m\u001b[38;5;124;43mImagingPlane\u001b[39;49m\u001b[38;5;124;43m\"\u001b[39;49m\u001b[43m,\u001b[49m\n\u001b[1;32m    340\u001b[0m \u001b[43m    \u001b[49m\u001b[43moptical_channel\u001b[49m\u001b[38;5;241;43m=\u001b[39;49m\u001b[43moptical_channel\u001b[49m\u001b[43m,\u001b[49m\n\u001b[1;32m    341\u001b[0m \u001b[43m    \u001b[49m\u001b[43mimaging_rate\u001b[49m\u001b[38;5;241;43m=\u001b[39;49m\u001b[43mops\u001b[49m\u001b[43m[\u001b[49m\u001b[38;5;124;43m\"\u001b[39;49m\u001b[38;5;124;43mfs\u001b[39;49m\u001b[38;5;124;43m\"\u001b[39;49m\u001b[43m]\u001b[49m\u001b[43m,\u001b[49m\n\u001b[1;32m    342\u001b[0m \u001b[43m    \u001b[49m\u001b[43mdescription\u001b[49m\u001b[38;5;241;43m=\u001b[39;49m\u001b[38;5;124;43m\"\u001b[39;49m\u001b[38;5;124;43mstandard\u001b[39;49m\u001b[38;5;124;43m\"\u001b[39;49m\u001b[43m,\u001b[49m\n\u001b[1;32m    343\u001b[0m \u001b[43m    \u001b[49m\u001b[43mdevice\u001b[49m\u001b[38;5;241;43m=\u001b[39;49m\u001b[43mdevice\u001b[49m\u001b[43m,\u001b[49m\n\u001b[1;32m    344\u001b[0m \u001b[43m    \u001b[49m\u001b[43mexcitation_lambda\u001b[49m\u001b[38;5;241;43m=\u001b[39;49m\u001b[38;5;241;43m600.0\u001b[39;49m\u001b[43m,\u001b[49m\n\u001b[1;32m    345\u001b[0m \u001b[43m    \u001b[49m\u001b[43mindicator\u001b[49m\u001b[38;5;241;43m=\u001b[39;49m\u001b[38;5;124;43m\"\u001b[39;49m\u001b[38;5;124;43mGCaMP\u001b[39;49m\u001b[38;5;124;43m\"\u001b[39;49m\u001b[43m,\u001b[49m\n\u001b[1;32m    346\u001b[0m \u001b[43m    \u001b[49m\u001b[43mlocation\u001b[49m\u001b[38;5;241;43m=\u001b[39;49m\u001b[38;5;124;43m\"\u001b[39;49m\u001b[38;5;124;43mV1\u001b[39;49m\u001b[38;5;124;43m\"\u001b[39;49m\u001b[43m,\u001b[49m\n\u001b[1;32m    347\u001b[0m \u001b[43m    \u001b[49m\u001b[43mgrid_spacing\u001b[49m\u001b[38;5;241;43m=\u001b[39;49m\u001b[43m(\u001b[49m\u001b[43m[\u001b[49m\u001b[38;5;241;43m2.0\u001b[39;49m\u001b[43m,\u001b[49m\u001b[43m \u001b[49m\u001b[38;5;241;43m2.0\u001b[39;49m\u001b[43m,\u001b[49m\u001b[43m \u001b[49m\u001b[38;5;241;43m30.0\u001b[39;49m\u001b[43m]\u001b[49m\u001b[43m \u001b[49m\u001b[38;5;28;43;01mif\u001b[39;49;00m\u001b[43m \u001b[49m\u001b[43mmultiplane\u001b[49m\u001b[43m \u001b[49m\u001b[38;5;28;43;01melse\u001b[39;49;00m\u001b[43m \u001b[49m\u001b[43m[\u001b[49m\u001b[38;5;241;43m2.0\u001b[39;49m\u001b[43m,\u001b[49m\u001b[43m \u001b[49m\u001b[38;5;241;43m2.0\u001b[39;49m\u001b[43m]\u001b[49m\u001b[43m)\u001b[49m\u001b[43m,\u001b[49m\n\u001b[1;32m    348\u001b[0m \u001b[43m    \u001b[49m\u001b[43mgrid_spacing_unit\u001b[49m\u001b[38;5;241;43m=\u001b[39;49m\u001b[38;5;124;43m\"\u001b[39;49m\u001b[38;5;124;43mmicrons\u001b[39;49m\u001b[38;5;124;43m\"\u001b[39;49m\u001b[43m,\u001b[49m\n\u001b[1;32m    349\u001b[0m \u001b[43m\u001b[49m\u001b[43m)\u001b[49m\n\u001b[1;32m    350\u001b[0m \u001b[38;5;66;03m# link to external data\u001b[39;00m\n\u001b[1;32m    351\u001b[0m external_data \u001b[38;5;241m=\u001b[39m ops[\u001b[38;5;124m\"\u001b[39m\u001b[38;5;124mfilelist\u001b[39m\u001b[38;5;124m\"\u001b[39m] \u001b[38;5;28;01mif\u001b[39;00m \u001b[38;5;124m\"\u001b[39m\u001b[38;5;124mfilelist\u001b[39m\u001b[38;5;124m\"\u001b[39m \u001b[38;5;129;01min\u001b[39;00m ops \u001b[38;5;28;01melse\u001b[39;00m [\u001b[38;5;124m\"\u001b[39m\u001b[38;5;124m\"\u001b[39m]\n",
      "File \u001b[0;32m~/anaconda3/envs/suite2p/lib/python3.9/site-packages/hdmf/utils.py:643\u001b[0m, in \u001b[0;36mdocval.<locals>.dec.<locals>.func_call\u001b[0;34m(*args, **kwargs)\u001b[0m\n\u001b[1;32m    642\u001b[0m \u001b[38;5;28;01mdef\u001b[39;00m \u001b[38;5;21mfunc_call\u001b[39m(\u001b[38;5;241m*\u001b[39margs, \u001b[38;5;241m*\u001b[39m\u001b[38;5;241m*\u001b[39mkwargs):\n\u001b[0;32m--> 643\u001b[0m     pargs \u001b[38;5;241m=\u001b[39m \u001b[43m_check_args\u001b[49m\u001b[43m(\u001b[49m\u001b[43margs\u001b[49m\u001b[43m,\u001b[49m\u001b[43m \u001b[49m\u001b[43mkwargs\u001b[49m\u001b[43m)\u001b[49m\n\u001b[1;32m    644\u001b[0m     \u001b[38;5;28;01mreturn\u001b[39;00m func(args[\u001b[38;5;241m0\u001b[39m], \u001b[38;5;241m*\u001b[39m\u001b[38;5;241m*\u001b[39mpargs)\n",
      "File \u001b[0;32m~/anaconda3/envs/suite2p/lib/python3.9/site-packages/hdmf/utils.py:636\u001b[0m, in \u001b[0;36mdocval.<locals>.dec.<locals>._check_args\u001b[0;34m(args, kwargs)\u001b[0m\n\u001b[1;32m    634\u001b[0m     \u001b[38;5;28;01mif\u001b[39;00m parse_err:\n\u001b[1;32m    635\u001b[0m         msg \u001b[38;5;241m=\u001b[39m \u001b[38;5;124m'\u001b[39m\u001b[38;5;132;01m%s\u001b[39;00m\u001b[38;5;124m: \u001b[39m\u001b[38;5;132;01m%s\u001b[39;00m\u001b[38;5;124m'\u001b[39m \u001b[38;5;241m%\u001b[39m (func\u001b[38;5;241m.\u001b[39m\u001b[38;5;18m__qualname__\u001b[39m, \u001b[38;5;124m'\u001b[39m\u001b[38;5;124m, \u001b[39m\u001b[38;5;124m'\u001b[39m\u001b[38;5;241m.\u001b[39mjoin(parse_err))\n\u001b[0;32m--> 636\u001b[0m         \u001b[38;5;28;01mraise\u001b[39;00m ExceptionType(msg)\n\u001b[1;32m    638\u001b[0m \u001b[38;5;28;01mreturn\u001b[39;00m parsed[\u001b[38;5;124m'\u001b[39m\u001b[38;5;124margs\u001b[39m\u001b[38;5;124m'\u001b[39m]\n",
      "\u001b[0;31mTypeError\u001b[0m: MultiContainerInterface.__make_create.<locals>._func: incorrect type for 'imaging_rate' (got 'int', expected 'float')"
     ]
    }
   ],
   "source": [
    "#___________________________________________#\n",
    "\n",
    "# automatically retrieve the sampling rate\n",
    "root_path = os.path.split(movie_path)[0]\n",
    "movie_name = os.path.split(movie_path)[1]\n",
    "root_contents = os.listdir(root_path)\n",
    "metadata_dir = os.path.join(root_path,[i for i in root_contents if '.json' in i][0])\n",
    "metadata = json.load(open(metadata_dir))\n",
    "fr = metadata['frameRate']\n",
    "\n",
    "# default ops\n",
    "ops = suite2p.default_ops()\n",
    "ops['fs']=fr\n",
    "ops['save_NWB']=True\n",
    "print(ops)\n",
    "\n",
    "# set db, this overrides the ops variable\n",
    "db = {\n",
    "    'data_path': [root_path],\n",
    "    'save_path0': root_path,\n",
    "    'tiff_list': [movie_name],\n",
    "}\n",
    "db\n",
    "\n",
    "# run suite2p algorithm\n",
    "output_ops = suite2p.run_s2p(ops=ops, db=db)"
   ]
  },
  {
   "cell_type": "code",
   "execution_count": null,
   "metadata": {},
   "outputs": [],
   "source": []
  }
 ],
 "metadata": {
  "kernelspec": {
   "display_name": "Python 3 (ipykernel)",
   "language": "python",
   "name": "python3"
  },
  "language_info": {
   "codemirror_mode": {
    "name": "ipython",
    "version": 3
   },
   "file_extension": ".py",
   "mimetype": "text/x-python",
   "name": "python",
   "nbconvert_exporter": "python",
   "pygments_lexer": "ipython3",
   "version": "3.9.17"
  }
 },
 "nbformat": 4,
 "nbformat_minor": 4
}
