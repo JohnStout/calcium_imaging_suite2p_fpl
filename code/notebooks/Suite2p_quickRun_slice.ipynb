{
 "cells": [
  {
   "cell_type": "markdown",
   "metadata": {},
   "source": [
    "# Adapted jupyter-notebook for running suite2p algorithm on 2P data"
   ]
  },
  {
   "cell_type": "code",
   "execution_count": 1,
   "metadata": {},
   "outputs": [
    {
     "name": "stderr",
     "output_type": "stream",
     "text": [
      "/var/folders/f3/11w5x6bs32gd1xc4lh41qdnr0000gp/T/ipykernel_81973/2586110496.py:24: MatplotlibDeprecationWarning: The get_cmap function was deprecated in Matplotlib 3.7 and will be removed two minor releases later. Use ``matplotlib.colormaps[name]`` or ``matplotlib.colormaps.get_cmap(obj)`` instead.\n",
      "  jet = mpl.cm.get_cmap('jet')\n"
     ]
    }
   ],
   "source": [
    "from pathlib import Path\n",
    "from tempfile import TemporaryDirectory\n",
    "import matplotlib.pyplot as plt\n",
    "import numpy as np\n",
    "import os\n",
    "import tifffile\n",
    "import xmltodict\n",
    "import suite2p\n",
    "import fastplotlib as fpl\n",
    "\n",
    "# Figure Style settings for notebook.\n",
    "import matplotlib as mpl\n",
    "mpl.rcParams.update({\n",
    "    'axes.spines.left': False,\n",
    "    'axes.spines.bottom': False,\n",
    "    'axes.spines.top': False,\n",
    "    'axes.spines.right': False,\n",
    "    'legend.frameon': False,\n",
    "    'figure.subplot.wspace': .01,\n",
    "    'figure.subplot.hspace': .01,\n",
    "    'figure.figsize': (9, 9),\n",
    "    'ytick.major.left': False,\n",
    "})\n",
    "jet = mpl.cm.get_cmap('jet')\n",
    "jet.set_bad(color='k')"
   ]
  },
  {
   "cell_type": "markdown",
   "metadata": {},
   "source": [
    "# Set `movie_path` and let the rest work\n",
    "\n",
    "When you are finished, open Suite2p_quickViz, change the file path and visualize the movie overlaid with the components. You should toggle between the suite2p GUI and the fastplotlib plots"
   ]
  },
  {
   "cell_type": "code",
   "execution_count": 3,
   "metadata": {},
   "outputs": [
    {
     "name": "stdout",
     "output_type": "stream",
     "text": [
      "{'suite2p_version': '0.14.2', 'look_one_level_down': False, 'fast_disk': [], 'delete_bin': False, 'mesoscan': False, 'bruker': False, 'bruker_bidirectional': False, 'h5py': [], 'h5py_key': 'data', 'nwb_file': '', 'nwb_driver': '', 'nwb_series': '', 'save_path0': '', 'save_folder': [], 'subfolders': [], 'move_bin': False, 'nplanes': 1, 'nchannels': 1, 'functional_chan': 1, 'tau': 1.0, 'fs': 10, 'force_sktiff': False, 'frames_include': -1, 'multiplane_parallel': False, 'ignore_flyback': [], 'preclassify': 0.0, 'save_mat': False, 'save_NWB': False, 'combined': True, 'aspect': 1.0, 'do_bidiphase': False, 'bidiphase': 0, 'bidi_corrected': False, 'do_registration': True, 'two_step_registration': False, 'keep_movie_raw': False, 'nimg_init': 300, 'batch_size': 500, 'maxregshift': 0.1, 'align_by_chan': 1, 'reg_tif': False, 'reg_tif_chan2': False, 'subpixel': 10, 'smooth_sigma_time': 0, 'smooth_sigma': 1.15, 'th_badframes': 1.0, 'norm_frames': True, 'force_refImg': False, 'pad_fft': False, 'nonrigid': True, 'block_size': [128, 128], 'snr_thresh': 1.2, 'maxregshiftNR': 5, '1Preg': False, 'spatial_hp_reg': 42, 'pre_smooth': 0, 'spatial_taper': 40, 'roidetect': True, 'spikedetect': True, 'sparse_mode': True, 'spatial_scale': 0, 'connected': True, 'nbinned': 5000, 'max_iterations': 20, 'threshold_scaling': 1.0, 'max_overlap': 0.75, 'high_pass': 100, 'spatial_hp_detect': 25, 'denoise': False, 'anatomical_only': 0, 'diameter': 0, 'cellprob_threshold': 0.0, 'flow_threshold': 1.5, 'spatial_hp_cp': 0, 'pretrained_model': 'cyto', 'soma_crop': True, 'neuropil_extract': True, 'inner_neuropil_radius': 2, 'min_neuropil_pixels': 350, 'lam_percentile': 50.0, 'allow_overlap': False, 'use_builtin_classifier': False, 'classifier_path': '', 'chan2_thres': 0.65, 'baseline': 'maximin', 'win_baseline': 60.0, 'sig_baseline': 10.0, 'prctile_baseline': 8.0, 'neucoeff': 0.7}\n",
      "{'data_path': ['/Users/js0403/slice_imaging/AG4 data'], 'save_path0': '/Users/js0403/slice_imaging/AG4 data', 'tiff_list': ['ExpFit_BleachCorr_Process_111.vsi - Acquisition_spatDownSampledx3.tif']}\n",
      "FOUND BINARIES AND OPS IN ['/Users/js0403/slice_imaging/AG4 data/suite2p/plane0/ops.npy']\n",
      "removing previous detection and extraction files, if present\n",
      ">>>>>>>>>>>>>>>>>>>>> PLANE 0 <<<<<<<<<<<<<<<<<<<<<<\n",
      "NOTE: not running registration, plane already registered\n",
      "binary path: /Users/js0403/slice_imaging/AG4 data/suite2p/plane0/data.bin\n",
      "NOTE: applying default /Users/js0403/.suite2p/classifiers/classifier_user.npy\n",
      "----------- ROI DETECTION\n",
      "Binning movie in chunks of length 10\n",
      "Binned movie of size [300,346,515] created in 0.55 sec.\n",
      "NOTE: estimated spatial scale ~12 pixels, time epochs 1.00, threshold 10.00 \n",
      "0 ROIs, score=324.29\n",
      "Detected 27 ROIs, 1.77 sec\n",
      "After removing overlaps, 22 ROIs remain\n",
      "----------- Total 2.37 sec.\n",
      "----------- EXTRACTION\n",
      "Masks created, 0.44 sec.\n",
      "Extracted fluorescence from 22 ROIs in 3000 frames, 0.58 sec.\n",
      "----------- Total 1.04 sec.\n",
      "----------- CLASSIFICATION\n",
      "['npix_norm', 'skew', 'compact']\n",
      "----------- SPIKE DECONVOLUTION\n",
      "----------- Total 0.00 sec.\n",
      "Plane 0 processed in 3.42 sec (can open in GUI).\n",
      "total = 3.47 sec.\n",
      "TOTAL RUNTIME 3.47 sec\n"
     ]
    }
   ],
   "source": [
    "# CHANGE ME\n",
    "movie_path = r'/Users/js0403/slice_imaging/AG4 data/ExpFit_BleachCorr_Process_111.vsi - Acquisition_spatDownSampledx3.tif'\n",
    "seeded_image = r'/Users/js0403/slice_imaging/AG4 data/Image_169.tif'\n",
    "fr = 10 # frame rate\n",
    "\n",
    "#___________________________________________#\n",
    "\n",
    "# movies and associated frame rates\n",
    "root_path = os.path.split(movie_path)[0]\n",
    "movie_name = os.path.split(movie_path)[1]\n",
    "\n",
    "# get metadata\n",
    "root_contents = os.listdir(root_path)\n",
    "\n",
    "# default ops\n",
    "ops = suite2p.default_ops()\n",
    "ops['fs']=fr\n",
    "ops['save_NWB']=False\n",
    "print(ops)\n",
    "\n",
    "# set db, this overrides the ops variable\n",
    "db = {\n",
    "    'data_path': [root_path],\n",
    "    'save_path0': root_path,\n",
    "    'tiff_list': [movie_name],\n",
    "}\n",
    "db\n",
    "\n",
    "# run suite2p algorithm\n",
    "output_ops = suite2p.run_s2p(ops=ops, db=db)"
   ]
  }
 ],
 "metadata": {
  "kernelspec": {
   "display_name": "Python 3 (ipykernel)",
   "language": "python",
   "name": "python3"
  },
  "language_info": {
   "codemirror_mode": {
    "name": "ipython",
    "version": 3
   },
   "file_extension": ".py",
   "mimetype": "text/x-python",
   "name": "python",
   "nbconvert_exporter": "python",
   "pygments_lexer": "ipython3",
   "version": "3.9.17"
  }
 },
 "nbformat": 4,
 "nbformat_minor": 4
}
