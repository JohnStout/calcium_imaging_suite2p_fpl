{
 "cells": [
  {
   "cell_type": "markdown",
   "metadata": {},
   "source": [
    "# This code uses visualization tools to viz your suite2p results!\n",
    "\n",
    "Open terminal:\n",
    "\n",
    "    conda activate suite2p\n",
    "    jupyter-lab\n",
    "\n",
    "Open Suite2p_Run and work through the notebook. Wait until algorithm is complete.\n",
    "\n",
    "Open a separate terminal:\n",
    "\n",
    "    conda activate suite2p\n",
    "    suite2p\n",
    "\n",
    "Now when in suite2p, select:\n",
    "1) mean img (enhanced) or max projection\n",
    "\n",
    "Toggle back to jupyter-notebook and open `Suite2p_quickViz` to see your components\n",
    "\n",
    "Drag your cursor to see your components. If you find any components that are not caught by suite2p, go back to suite2p and:\n",
    "1) File > Manual Labeling\n",
    "2) mean img (enhanced)\n",
    "3) Press \"add ROI\"\n",
    "4) Find the ROI and create boundaries\n",
    "5) Press \"Extract ROIs\"\n",
    "6) Press \"Save and Quit\"\n",
    "7) Go back to `Suite2p_quickViz` and watch the results!\n",
    "\n",
    "When you're done, open `Suite2p_exploreResults.ipynb`"
   ]
  },
  {
   "cell_type": "code",
   "execution_count": 3,
   "metadata": {},
   "outputs": [
    {
     "name": "stderr",
     "output_type": "stream",
     "text": [
      "/var/folders/f3/11w5x6bs32gd1xc4lh41qdnr0000gp/T/ipykernel_1285/2855019485.py:24: MatplotlibDeprecationWarning: The get_cmap function was deprecated in Matplotlib 3.7 and will be removed two minor releases later. Use ``matplotlib.colormaps[name]`` or ``matplotlib.colormaps.get_cmap(obj)`` instead.\n",
      "  jet = mpl.cm.get_cmap('jet')\n"
     ]
    }
   ],
   "source": [
    "from pathlib import Path\n",
    "from tempfile import TemporaryDirectory\n",
    "import matplotlib.pyplot as plt\n",
    "import numpy as np\n",
    "import os\n",
    "import tifffile\n",
    "import xmltodict\n",
    "import suite2p\n",
    "import fastplotlib as fpl\n",
    "\n",
    "# Figure Style settings for notebook.\n",
    "import matplotlib as mpl\n",
    "mpl.rcParams.update({\n",
    "    'axes.spines.left': False,\n",
    "    'axes.spines.bottom': False,\n",
    "    'axes.spines.top': False,\n",
    "    'axes.spines.right': False,\n",
    "    'legend.frameon': False,\n",
    "    'figure.subplot.wspace': .01,\n",
    "    'figure.subplot.hspace': .01,\n",
    "    'figure.figsize': (9, 9),\n",
    "    'ytick.major.left': False,\n",
    "})\n",
    "jet = mpl.cm.get_cmap('jet')\n",
    "jet.set_bad(color='k')\n",
    "\n",
    "import os\n",
    "import sys\n",
    "root_dir = os.path.split(os.path.split(os.getcwd())[0])[0] # get root\n",
    "utils_dir = os.path.join(root_dir,'code','utils') # get utils folder path\n",
    "sys.path.append(utils_dir) # add it to system path (not ideal) - doing this to reduce pip installs for local lab usage\n",
    "import plot_tools as fpl_tools # import movie"
   ]
  },
  {
   "cell_type": "markdown",
   "metadata": {},
   "source": [
    "# set `output_path` to suite2p output and watch the fastplotlib plot in action!"
   ]
  },
  {
   "cell_type": "code",
   "execution_count": 4,
   "metadata": {},
   "outputs": [
    {
     "name": "stdout",
     "output_type": "stream",
     "text": [
      "/Users/js0403/2p/A04/img.tif\n"
     ]
    },
    {
     "data": {
      "application/vnd.jupyter.widget-view+json": {
       "model_id": "1cd04f75c0ee48a79c1a2ebc564eb448",
       "version_major": 2,
       "version_minor": 0
      },
      "text/plain": [
       "RFBOutputContext()"
      ]
     },
     "metadata": {},
     "output_type": "display_data"
    }
   ],
   "source": [
    "output_path = r\"/Users/js0403/2p/A04/suite2p/plane0\"\n",
    "fpl_object = fpl_tools.play_suite2p_movie(suite2p_path=output_path)\n",
    "fpl_object.play_movie_plot_mask(components_type='both',plot_type='double')"
   ]
  },
  {
   "cell_type": "code",
   "execution_count": 3,
   "metadata": {},
   "outputs": [
    {
     "name": "stdout",
     "output_type": "stream",
     "text": [
      "/Users/js0403/slice_imaging/AG4 data/ExpFit_BleachCorr_Process_111.vsi - Acquisition_spatDownSampledx3.tif\n"
     ]
    },
    {
     "name": "stderr",
     "output_type": "stream",
     "text": [
      "/var/folders/f3/11w5x6bs32gd1xc4lh41qdnr0000gp/T/ipykernel_82460/3186610997.py:41: RuntimeWarning: All-NaN slice encountered\n",
      "  cell_roi = np.nanmax(im[iscell], axis=0)\n"
     ]
    },
    {
     "data": {
      "application/vnd.jupyter.widget-view+json": {
       "model_id": "da55ffe2c86d46bfa5cf01c5f71c0467",
       "version_major": 2,
       "version_minor": 0
      },
      "text/plain": [
       "RFBOutputContext()"
      ]
     },
     "metadata": {},
     "output_type": "display_data"
    },
    {
     "data": {
      "text/plain": [
       "JupyterOutputContext(children=(JupyterWgpuCanvas(), IpywidgetToolBar(children=(Button(icon='expand-arrows-alt', layout=Layout(width='auto'), style=ButtonStyle(), tooltip='auto-scale scene'), Button(icon='align-center', layout=Layout(width='auto'), style=ButtonStyle(), tooltip='auto-center scene'), ToggleButton(value=True, icon='hand-pointer', layout=Layout(width='auto'), tooltip='panzoom controller'), ToggleButton(value=True, description='1:1', layout=Layout(width='auto'), style=ToggleButtonStyle(font_weight='bold'), tooltip='maintain aspect'), Button(icon='arrow-down', layout=Layout(width='auto'), style=ButtonStyle(), tooltip='y-axis direction'), Button(icon='draw-polygon', layout=Layout(width='auto'), style=ButtonStyle(), tooltip='add PolygonSelector'), ToggleButton(value=False, icon='video', layout=Layout(width='auto'), tooltip='record'), Dropdown(description='Subplots:', layout=Layout(width='200px'), options=('(0, 0)',), value='(0, 0)'))), IpywidgetImageWidgetToolbar(children=(HBox(children=(Button(icon='adjust', layout=Layout(width='auto'), style=ButtonStyle(), tooltip='reset vmin/vmax'), Button(description='reset', icon='adjust', layout=Layout(width='auto'), style=ButtonStyle(), tooltip='reset vmin/vmax and reset histogram using current frame'), Play(value=0, description='play/pause', interval=10, max=2999), BoundedIntText(value=1, description='Step Size:', layout=Layout(width='150px'), max=2999, min=1, tooltip='set slider step'), BoundedIntText(value=100, description='Speed', layout=Layout(width='150px'), max=1000, min=1, step=50, tooltip='Playback speed, this is NOT framerate.\\nArbitrary units between 1 - 1,000'))), IntSlider(value=0, description='dimension: t', max=2999)))))"
      ]
     },
     "execution_count": 3,
     "metadata": {},
     "output_type": "execute_result"
    }
   ],
   "source": [
    "# movies and associated frame rates\n",
    "#output_path = r\"/Users/js0403/slice_imaging/AG4 data/suite2p/plane0\"\n",
    "output_path = r\"/Users/js0403/2p/A04/suite2p/plane0\"\n",
    "\n",
    "# list the files in the directory\n",
    "listed_data = os.listdir(output_path)\n",
    "\n",
    "# loads in your data and automatically assigns their inputs\n",
    "var_names =[]\n",
    "for i in listed_data:\n",
    "    if '.npy' in i:\n",
    "        if 'ops' in i:\n",
    "            globals()[i.split('.')[0]]=np.load(os.path.join(output_path,i),allow_pickle=True).item()\n",
    "            pass\n",
    "        else:\n",
    "            globals()[i.split('.')[0]]=np.load(os.path.join(output_path,i),allow_pickle=True)\n",
    "        var_names.append([i.split('.')[0]])\n",
    "\n",
    "# define data_path\n",
    "if len(ops['data_path'])>1 or len(ops['tiff_list'])>1:\n",
    "    print(\"This code does not support multi-file registration\")\n",
    "else:\n",
    "    data_path = os.path.join(ops['data_path'][0],ops['tiff_list'][0])\n",
    "    print(data_path)\n",
    "\n",
    "# prep stuff\n",
    "output_op_file = np.load(Path(ops['save_path']).joinpath('ops.npy'), allow_pickle=True).item()\n",
    "output_op_file.keys() == ops.keys()\n",
    "stats_file = Path(ops['save_path']).joinpath('stat.npy')\n",
    "iscell = np.load(Path(ops['save_path']).joinpath('iscell.npy'), allow_pickle=True)[:, 0].astype(bool)\n",
    "stats = np.load(stats_file, allow_pickle=True)\n",
    "stats.shape, iscell.shape\n",
    "\n",
    "# get image object\n",
    "im = suite2p.ROI.stats_dicts_to_3d_array(stats, Ly=ops['Ly'], Lx=ops['Lx'], label_id=True)\n",
    "im[im == 0] = np.nan\n",
    "\n",
    "# lazy load video\n",
    "images = tifffile.memmap(data_path)\n",
    "\n",
    "# cell rois\n",
    "cell_roi = np.nanmax(im[iscell], axis=0)\n",
    "cell_roi.shape\n",
    "cell_roi[~np.isnan(cell_roi)]=20\n",
    "\n",
    "#%% Watch the movie using fastplotlib\n",
    "if 'iw_movie' in locals():\n",
    "    iw_movie.close()\n",
    "\n",
    "iw_movie = fpl.ImageWidget(\n",
    "    data=images,\n",
    "    slider_dims=[\"t\"],\n",
    "    cmap=\"gray\"\n",
    ")\n",
    "\n",
    "# add a column to overlay functional activity on structural video\n",
    "struct_rgba = np.zeros((images.shape[1], images.shape[2], 4), dtype=np.float32)\n",
    "struct_rgba[:, :, 1] = cell_roi\n",
    "struct_rgba[..., -1] = 10\n",
    "iw_movie.gridplot[0,0].add_image(struct_rgba, name='struct')\n",
    "iw_movie.gridplot[0,0]\n",
    "iw_movie.gridplot[0,0][\"struct\"].data[..., -1] = .3\n",
    "#iw_movie.gridplot[0,0].add_image(cell_roi, name='struct')\n",
    "\n",
    "# visualize the movie\n",
    "iw_movie.show(sidecar=True)"
   ]
  },
  {
   "cell_type": "code",
   "execution_count": null,
   "metadata": {},
   "outputs": [],
   "source": []
  }
 ],
 "metadata": {
  "kernelspec": {
   "display_name": "Python 3 (ipykernel)",
   "language": "python",
   "name": "python3"
  },
  "language_info": {
   "codemirror_mode": {
    "name": "ipython",
    "version": 3
   },
   "file_extension": ".py",
   "mimetype": "text/x-python",
   "name": "python",
   "nbconvert_exporter": "python",
   "pygments_lexer": "ipython3",
   "version": "3.9.17"
  }
 },
 "nbformat": 4,
 "nbformat_minor": 4
}
